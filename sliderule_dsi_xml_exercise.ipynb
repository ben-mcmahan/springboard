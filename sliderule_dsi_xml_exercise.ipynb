{
 "cells": [
  {
   "cell_type": "markdown",
   "metadata": {},
   "source": [
    "# XML example and exercise\n",
    "****\n",
    "+ study examples of accessing nodes in XML tree structure  \n",
    "+ work on exercise to be completed and submitted\n",
    "****\n",
    "+ reference: https://docs.python.org/2.7/library/xml.etree.elementtree.html\n",
    "+ data source: http://www.dbis.informatik.uni-goettingen.de/Mondial\n",
    "****"
   ]
  },
  {
   "cell_type": "code",
   "execution_count": 1,
   "metadata": {
    "collapsed": true
   },
   "outputs": [],
   "source": [
    "from xml.etree import ElementTree as ET"
   ]
  },
  {
   "cell_type": "markdown",
   "metadata": {},
   "source": [
    "## XML example\n",
    "\n",
    "+ for details about tree traversal and iterators, see https://docs.python.org/2.7/library/xml.etree.elementtree.html"
   ]
  },
  {
   "cell_type": "code",
   "execution_count": 2,
   "metadata": {
    "collapsed": true
   },
   "outputs": [],
   "source": [
    "document_tree = ET.parse( './data/mondial_database_less.xml' )"
   ]
  },
  {
   "cell_type": "code",
   "execution_count": 3,
   "metadata": {
    "collapsed": false
   },
   "outputs": [
    {
     "name": "stdout",
     "output_type": "stream",
     "text": [
      "Albania\n",
      "Greece\n",
      "Macedonia\n",
      "Serbia\n",
      "Montenegro\n",
      "Kosovo\n",
      "Andorra\n"
     ]
    }
   ],
   "source": [
    "# print names of all countries\n",
    "for child in document_tree.getroot():\n",
    "    print(child.find('name').text)"
   ]
  },
  {
   "cell_type": "code",
   "execution_count": 4,
   "metadata": {
    "collapsed": false
   },
   "outputs": [
    {
     "name": "stdout",
     "output_type": "stream",
     "text": [
      "* Albania:\n",
      "Tirana, Shkodër, Durrës, Vlorë, Elbasan, Korçë\n",
      "* Greece:\n",
      "Komotini, Kavala, Athina, Peiraias, Peristeri, Acharnes, Patra, Kozani, Kerkyra, Ioannina, Thessaloniki, Iraklio, Chania, Ermoupoli, Rhodes, Tripoli, Lamia, Chalkida, Larissa, Volos, Mytilini, Karyes\n",
      "* Macedonia:\n",
      "Skopje, Kumanovo\n",
      "* Serbia:\n",
      "Beograd, Novi Sad, Niš\n",
      "* Montenegro:\n",
      "Podgorica\n",
      "* Kosovo:\n",
      "Prishtine\n",
      "* Andorra:\n",
      "Andorra la Vella\n"
     ]
    }
   ],
   "source": [
    "# print names of all countries and their cities\n",
    "for element in document_tree.iterfind('country'):\n",
    "    print('* ' + element.find('name').text + ':'),\n",
    "    capitals_string = ''\n",
    "    for subelement in element.getiterator('city'):\n",
    "        capitals_string += subelement.find('name').text + ', '\n",
    "    print(capitals_string[:-2])"
   ]
  },
  {
   "cell_type": "markdown",
   "metadata": {},
   "source": [
    "****\n",
    "## XML exercise\n",
    "\n",
    "Using data in 'data/mondial_database.xml', the examples above, and refering to https://docs.python.org/2.7/library/xml.etree.elementtree.html, find\n",
    "\n",
    "1. 10 countries with the lowest infant mortality rates\n",
    "2. 10 cities with the largest population\n",
    "3. 10 ethnic groups with the largest overall populations (sum of best/latest estimates over all countries)\n",
    "4. name and country of a) longest river, b) largest lake and c) airport at highest elevation"
   ]
  },
  {
   "cell_type": "code",
   "execution_count": 5,
   "metadata": {
    "collapsed": false
   },
   "outputs": [],
   "source": [
    "document = ET.parse( './data/mondial_database.xml' )"
   ]
  },
  {
   "cell_type": "code",
   "execution_count": null,
   "metadata": {
    "collapsed": true
   },
   "outputs": [],
   "source": []
  },
  {
   "cell_type": "code",
   "execution_count": null,
   "metadata": {
    "collapsed": true
   },
   "outputs": [],
   "source": []
  },
  {
   "cell_type": "markdown",
   "metadata": {},
   "source": [
    "#### 10 countries with the lowest infant mortality rates"
   ]
  },
  {
   "cell_type": "code",
   "execution_count": 6,
   "metadata": {
    "collapsed": false
   },
   "outputs": [
    {
     "name": "stdout",
     "output_type": "stream",
     "text": [
      "Top 10 Infant Mortality Rates\n",
      "\n",
      "1) Western Sahara: 145.82\n",
      "2) Afghanistan: 117.23\n",
      "3) Mali: 104.34\n",
      "4) Somalia: 100.14\n",
      "5) Central African Republic: 92.86\n",
      "6) Guinea-Bissau: 90.92\n",
      "7) Chad: 90.3\n",
      "8) Niger: 86.27\n",
      "9) Angola: 79.99\n",
      "10) Burkina Faso: 76.8\n"
     ]
    }
   ],
   "source": [
    "root = document.getroot()\n",
    "infant_mortality_stats = []\n",
    "infant_mortality_stats_unavailable = []\n",
    "\n",
    "for country in root.findall('country'):\n",
    "    try:\n",
    "        infant_mortality_stats.append((country.find('name').text,float(country.find('infant_mortality').text)))\n",
    "    except:\n",
    "        infant_mortality_stats_unavailable.append(country.find('name').text)        \n",
    "infant_mortality_stats.sort(key = lambda x: x[1],reverse=True)\n",
    "\n",
    "print('Top 10 Infant Mortality Rates\\n')\n",
    "for stat in infant_mortality_stats[:10]:\n",
    "    print(\"{0}) {1}: {2}\".format(infant_mortality_stats.index(stat)+1,stat[0],stat[-1]))"
   ]
  },
  {
   "cell_type": "code",
   "execution_count": null,
   "metadata": {
    "collapsed": false
   },
   "outputs": [],
   "source": []
  },
  {
   "cell_type": "markdown",
   "metadata": {},
   "source": [
    "#### 10 cities with the largest population"
   ]
  },
  {
   "cell_type": "code",
   "execution_count": 7,
   "metadata": {
    "collapsed": false
   },
   "outputs": [
    {
     "name": "stdout",
     "output_type": "stream",
     "text": [
      "10 cities with the largest population\n",
      "1) Shanghai: 22315474\n",
      "2) Istanbul: 13710512\n",
      "3) Mumbai: 12442373\n",
      "4) Moskva: 11979529\n",
      "5) Beijing: 11716620\n",
      "6) São Paulo: 11152344\n",
      "7) Tianjin: 11090314\n",
      "8) Guangzhou: 11071424\n",
      "9) Delhi: 11034555\n",
      "10) Shenzhen: 10358381\n"
     ]
    }
   ],
   "source": [
    "city_popn = []\n",
    "city_popn_unk = []\n",
    "\n",
    "for country in root.findall('country'):\n",
    "    for province in country.findall('province'):\n",
    "        for city in province.findall('city'):\n",
    "            popn = [int(population.text) for population in city.findall('population')]\n",
    "            try:\n",
    "                city_popn.append((city.find('name').text,popn[-1]))\n",
    "            except:\n",
    "                city_popn_unk.append(city.find('name').text)\n",
    "city_popn.sort(key = lambda x: x[1],reverse=True)\n",
    "\n",
    "print('10 cities with the largest population')\n",
    "for pop in city_popn[:10]:\n",
    "    print(\"{0}) {1}: {2}\".format(city_popn.index(pop)+1,pop[0],pop[-1]))"
   ]
  },
  {
   "cell_type": "code",
   "execution_count": 342,
   "metadata": {
    "collapsed": false
   },
   "outputs": [],
   "source": [
    "#city_popn"
   ]
  },
  {
   "cell_type": "code",
   "execution_count": null,
   "metadata": {
    "collapsed": false
   },
   "outputs": [],
   "source": []
  },
  {
   "cell_type": "markdown",
   "metadata": {
    "collapsed": true
   },
   "source": [
    "#### 10 ethnic groups with the largest overall populations (sum of best/latest estimates over all countries)"
   ]
  },
  {
   "cell_type": "code",
   "execution_count": 349,
   "metadata": {
    "collapsed": false
   },
   "outputs": [],
   "source": [
    "#list of ethnic groups\n",
    "ethnic_popn = set()\n",
    "\n",
    "for country in root.findall('country'):\n",
    "    for ethnic_group in country.findall('ethnicgroup'):\n",
    "        ethnic_popn.add(ethnic_group.text)\n",
    "\n",
    "#prov_list = set()\n",
    "#for country in root.findall('country'):\n",
    "#    for province in country.findall('province'):\n",
    "#        for province_d in province.findall('name'):\n",
    "#            prov_list.add(province_d.text)"
   ]
  },
  {
   "cell_type": "code",
   "execution_count": 350,
   "metadata": {
    "collapsed": false,
    "scrolled": false
   },
   "outputs": [],
   "source": [
    "ethnicity_popn_per_country = {}\n",
    "for ethnicity in ethnic_popn:\n",
    "    ethnicity_popn_per_country[ethnicity] = []"
   ]
  },
  {
   "cell_type": "code",
   "execution_count": 351,
   "metadata": {
    "collapsed": false
   },
   "outputs": [],
   "source": [
    "for country in root.findall('country'):\n",
    "    country_popn = int([popn for popn in country.findall('population')][-1].text)\n",
    "    for ethnicity in country.findall('ethnicgroup'):\n",
    "        ethnicity_popn_per_country[ethnicity.text].append(float(ethnicity.attrib['percentage'])*.01*country_popn)"
   ]
  },
  {
   "cell_type": "code",
   "execution_count": 352,
   "metadata": {
    "collapsed": false
   },
   "outputs": [
    {
     "name": "stdout",
     "output_type": "stream",
     "text": [
      "Top 10 Ethnicities By (Rounded) Population\n",
      "\n",
      "1) Han Chinese: 1245058800\n",
      "2) Indo-Aryan: 871815583\n",
      "3) European: 494872219\n",
      "4) African: 318325120\n",
      "5) Dravidian: 302713744\n",
      "6) Mestizo: 157734354\n",
      "7) Bengali: 146776916\n",
      "8) Russian: 131856996\n",
      "9) Japanese: 126534212\n",
      "10) Malay: 121993550\n"
     ]
    }
   ],
   "source": [
    "ethnic_totalpopn = []\n",
    "\n",
    "for ethnicity, country_popn in ethnicity_popn_per_country.items():\n",
    "    ethnic_totalpopn.append((ethnicity, sum(country_popn)))    \n",
    "ethnic_totalpopn.sort(key=lambda x: x[1], reverse=True)\n",
    "\n",
    "print('Top 10 Ethnicities By (Rounded) Population\\n')\n",
    "for stat in ethnic_totalpopn[:10]:\n",
    "    print(\"{0}) {1}: {2:}\".format(ethnic_totalpopn.index(stat)+1,stat[0],int(stat[1])))"
   ]
  },
  {
   "cell_type": "code",
   "execution_count": null,
   "metadata": {
    "collapsed": false
   },
   "outputs": [],
   "source": []
  },
  {
   "cell_type": "markdown",
   "metadata": {},
   "source": [
    "#### name and country of a) longest river, b) largest lake and c) airport at highest elevation"
   ]
  },
  {
   "cell_type": "code",
   "execution_count": 192,
   "metadata": {
    "collapsed": false
   },
   "outputs": [],
   "source": [
    "countries = {}\n",
    "for country in root.findall('country'):\n",
    "    countries[country.attrib['car_code']]=country.find('name').text\n",
    "rivertest = set()\n",
    "\n",
    "for river in root.findall('river'):\n",
    "    for rivername in river.findall('name'):\n",
    "        rivertest.add(rivername.text)\n",
    "\n",
    "riverlength = set()\n",
    "for river in root.findall('river'):\n",
    "    for riverlen in river.findall('length'):\n",
    "        riverlength.add(riverlen.text)\n",
    "\n",
    "rivercountry = set()\n",
    "for river in root.findall('river'):\n",
    "    for riverc in river.findall(river.attrib['country']):\n",
    "        rivercountry.add(riverc.text)"
   ]
  },
  {
   "cell_type": "code",
   "execution_count": 354,
   "metadata": {
    "collapsed": false
   },
   "outputs": [],
   "source": [
    "#for river in root.findall('river'):\n",
    "#   for rivername in river.findall('name'):\n",
    "#        rivertest.add(rivername.text)\n",
    "#rivertest"
   ]
  },
  {
   "cell_type": "code",
   "execution_count": 247,
   "metadata": {
    "collapsed": false
   },
   "outputs": [],
   "source": [
    "rivertest = []\n",
    "import numpy as np\n",
    "for river in root.findall('river'):\n",
    "    name = river.find('name').text\n",
    "    try:\n",
    "        length = river.find('length').text\n",
    "        length = int(length)\n",
    "    except:\n",
    "        length = -999\n",
    "    country = river.get('country')\n",
    "    rivertest.append([name,length,country])"
   ]
  },
  {
   "cell_type": "code",
   "execution_count": 334,
   "metadata": {
    "collapsed": false,
    "scrolled": false
   },
   "outputs": [],
   "source": [
    "#rivertest = np.array(rivertest)\n",
    "#rivertest"
   ]
  },
  {
   "cell_type": "code",
   "execution_count": 374,
   "metadata": {
    "collapsed": false
   },
   "outputs": [
    {
     "name": "stdout",
     "output_type": "stream",
     "text": [
      "['Amazonas', 6448, 'CO BR PE']\n"
     ]
    }
   ],
   "source": [
    "from operator import itemgetter, attrgetter, methodcaller\n",
    "riversort = sorted(rivertest,key=itemgetter(1),reverse=True)\n",
    "print(riversort[0])"
   ]
  },
  {
   "cell_type": "code",
   "execution_count": 355,
   "metadata": {
    "collapsed": false
   },
   "outputs": [
    {
     "name": "stdout",
     "output_type": "stream",
     "text": [
      "Colombia\n"
     ]
    }
   ],
   "source": [
    "countries = {}\n",
    "for country in root.findall('country'):\n",
    "    countries[country.attrib['car_code']]=country.find('name').text\n",
    "print(countries['CO'])"
   ]
  },
  {
   "cell_type": "code",
   "execution_count": 281,
   "metadata": {
    "collapsed": false
   },
   "outputs": [
    {
     "name": "stdout",
     "output_type": "stream",
     "text": [
      "The longest river in the database is ['Amazonas', 6448, 'CO BR PE'] and is located in the countries of Colombia , Brazil and Peru (note: the Nile may be longer, but there is no data for length for the Nile)\n"
     ]
    }
   ],
   "source": [
    "print('The longest river in the database is ' + str(riversort[0]) + ' and is located in the countries of ' + countries['CO'] +' , ' +countries['BR']+ ' and ' + countries['PE'] + ' (note: the Nile may be longer, but there is no data for length for the Nile)') "
   ]
  },
  {
   "cell_type": "markdown",
   "metadata": {
    "collapsed": false
   },
   "source": [
    "#### b) largest lake "
   ]
  },
  {
   "cell_type": "code",
   "execution_count": 298,
   "metadata": {
    "collapsed": false
   },
   "outputs": [],
   "source": [
    "laketest = []\n",
    "for lake in root.findall('lake'):\n",
    "    name = lake.find('name').text\n",
    "    try:\n",
    "        area = lake.find('area').text\n",
    "        area = int(area)\n",
    "    except:\n",
    "        area = -999\n",
    "    country = lake.get('country')\n",
    "    laketest.append([name,area,country])"
   ]
  },
  {
   "cell_type": "code",
   "execution_count": 335,
   "metadata": {
    "collapsed": false
   },
   "outputs": [],
   "source": [
    "#laketest"
   ]
  },
  {
   "cell_type": "code",
   "execution_count": 300,
   "metadata": {
    "collapsed": false
   },
   "outputs": [
    {
     "name": "stdout",
     "output_type": "stream",
     "text": [
      "['Caspian Sea', 386400, 'R AZ KAZ IR TM']\n"
     ]
    }
   ],
   "source": [
    "lakesort = sorted(laketest,key=itemgetter(1),reverse=True)\n",
    "print(lakesort[0])"
   ]
  },
  {
   "cell_type": "code",
   "execution_count": 301,
   "metadata": {
    "collapsed": false
   },
   "outputs": [
    {
     "name": "stdout",
     "output_type": "stream",
     "text": [
      "The largest lake in the database is the ['Caspian Sea', 386400, 'R AZ KAZ IR TM']\n",
      "It is located in the countries of Russia , Azerbaijan , Kazakhstan , Iran and Turkmenistan\n"
     ]
    }
   ],
   "source": [
    "print('The largest lake in the database is the ' + str(lakesort[0]))\n",
    "print('It is located in the countries of ' + countries['R'] +' , ' +countries['AZ'] +' , '+ countries['KAZ'] +' , ' + countries['IR'] + ' and ' + countries['TM'])"
   ]
  },
  {
   "cell_type": "markdown",
   "metadata": {},
   "source": [
    "#### c) airport at highest elevation"
   ]
  },
  {
   "cell_type": "code",
   "execution_count": 328,
   "metadata": {
    "collapsed": true
   },
   "outputs": [],
   "source": [
    "airporttest = []\n",
    "for airport in root.findall('airport'):\n",
    "    name = airport.find('name').text\n",
    "    try:\n",
    "        elevation = airport.find('elevation').text\n",
    "        elevation = int(elevation)\n",
    "    except:\n",
    "        elevation = -999\n",
    "    country = airport.get('country')\n",
    "    airporttest.append([name,elevation,country])"
   ]
  },
  {
   "cell_type": "code",
   "execution_count": 336,
   "metadata": {
    "collapsed": false
   },
   "outputs": [],
   "source": [
    "#airporttest"
   ]
  },
  {
   "cell_type": "code",
   "execution_count": 330,
   "metadata": {
    "collapsed": false
   },
   "outputs": [
    {
     "name": "stdout",
     "output_type": "stream",
     "text": [
      "['El Alto Intl', 4063, 'BOL']\n"
     ]
    }
   ],
   "source": [
    "airportsort = sorted(airporttest,key=itemgetter(1),reverse=True)\n",
    "print(airportsort[0])"
   ]
  },
  {
   "cell_type": "code",
   "execution_count": 333,
   "metadata": {
    "collapsed": false
   },
   "outputs": [
    {
     "name": "stdout",
     "output_type": "stream",
     "text": [
      "The airport (in the database) at the highest elevation is ['El Alto Intl', 4063, 'BOL']\n",
      "It is located in the country of Bolivia\n"
     ]
    }
   ],
   "source": [
    "print('The airport (in the database) at the highest elevation is ' + str(airportsort[0]))\n",
    "print('It is located in the country of ' + countries['BOL'])"
   ]
  },
  {
   "cell_type": "code",
   "execution_count": null,
   "metadata": {
    "collapsed": false
   },
   "outputs": [],
   "source": []
  },
  {
   "cell_type": "code",
   "execution_count": null,
   "metadata": {
    "collapsed": true
   },
   "outputs": [],
   "source": []
  }
 ],
 "metadata": {
  "anaconda-cloud": {},
  "kernelspec": {
   "display_name": "Python [default]",
   "language": "python",
   "name": "python3"
  },
  "language_info": {
   "codemirror_mode": {
    "name": "ipython",
    "version": 3
   },
   "file_extension": ".py",
   "mimetype": "text/x-python",
   "name": "python",
   "nbconvert_exporter": "python",
   "pygments_lexer": "ipython3",
   "version": "3.5.2"
  }
 },
 "nbformat": 4,
 "nbformat_minor": 0
}
